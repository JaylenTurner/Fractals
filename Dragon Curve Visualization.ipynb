{
 "cells": [
  {
   "cell_type": "code",
   "execution_count": 2,
   "id": "86841cfd",
   "metadata": {},
   "outputs": [
    {
     "data": {
      "application/vnd.jupyter.widget-view+json": {
       "model_id": "67527ab9356a451f8f5e0bc26acdaa66",
       "version_major": 2,
       "version_minor": 0
      },
      "text/plain": [
       "interactive(children=(IntSlider(value=10, description='Order', max=20), Output()), _dom_classes=('widget-inter…"
      ]
     },
     "metadata": {},
     "output_type": "display_data"
    },
    {
     "data": {
      "text/plain": [
       "<function __main__.interactive_dragon_curve(order=10)>"
      ]
     },
     "execution_count": 2,
     "metadata": {},
     "output_type": "execute_result"
    }
   ],
   "source": [
    "import numpy as np\n",
    "import matplotlib.pyplot as plt\n",
    "from ipywidgets import interact, IntSlider\n",
    "\n",
    "def dragon_curve(n):\n",
    "    \"\"\"Generate points for the Dragon Curve.\"\"\"\n",
    "    directions = ['R']\n",
    "    for _ in range(n):\n",
    "        reversed_dir = directions[::-1]\n",
    "        directions.append('R')\n",
    "        for i in range(len(reversed_dir)):\n",
    "            if reversed_dir[i] == 'R':\n",
    "                reversed_dir[i] = 'L'\n",
    "            else:\n",
    "                reversed_dir[i] = 'R'\n",
    "        directions.extend(reversed_dir)\n",
    "    \n",
    "    x, y = [0], [0]\n",
    "    dx, dy = 1, 0\n",
    "    for direction in directions:\n",
    "        if direction == 'R':\n",
    "            dx, dy = dy, -dx\n",
    "        else:\n",
    "            dx, dy = -dy, dx\n",
    "        x.append(x[-1] + dx)\n",
    "        y.append(y[-1] + dy)\n",
    "    \n",
    "    return x, y\n",
    "\n",
    "def interactive_dragon_curve(order=10):\n",
    "    \"\"\"Interactive plot for Dragon Curve.\"\"\"\n",
    "    x, y = dragon_curve(order)\n",
    "    \n",
    "    plt.figure(figsize=(8, 8))\n",
    "    plt.plot(x, y, marker='.', markersize=1, linestyle='-', color='blue')\n",
    "    plt.title(f\"Dragon Curve of Order {order}\")\n",
    "    plt.axis('equal')\n",
    "    plt.show()\n",
    "\n",
    "# Create interactive slider\n",
    "interact(interactive_dragon_curve, order=IntSlider(min=0, max=20, step=1, value=10, description=\"Order\"))"
   ]
  },
  {
   "cell_type": "code",
   "execution_count": null,
   "id": "129ca679",
   "metadata": {},
   "outputs": [],
   "source": []
  }
 ],
 "metadata": {
  "kernelspec": {
   "display_name": "Python 3 (ipykernel)",
   "language": "python",
   "name": "python3"
  },
  "language_info": {
   "codemirror_mode": {
    "name": "ipython",
    "version": 3
   },
   "file_extension": ".py",
   "mimetype": "text/x-python",
   "name": "python",
   "nbconvert_exporter": "python",
   "pygments_lexer": "ipython3",
   "version": "3.9.13"
  }
 },
 "nbformat": 4,
 "nbformat_minor": 5
}
