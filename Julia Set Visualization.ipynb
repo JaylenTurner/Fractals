{
 "cells": [
  {
   "cell_type": "code",
   "execution_count": 11,
   "id": "336bba14",
   "metadata": {},
   "outputs": [
    {
     "data": {
      "application/vnd.jupyter.widget-view+json": {
       "model_id": "6a89e4f6f4eb41c282adade09a369acc",
       "version_major": 2,
       "version_minor": 0
      },
      "text/plain": [
       "interactive(children=(FloatSlider(value=0.0, description='X Center', max=2.0, min=-2.0, step=0.01), FloatSlide…"
      ]
     },
     "metadata": {},
     "output_type": "display_data"
    },
    {
     "data": {
      "text/plain": [
       "<function __main__.interactive_plot(x_center=-0.5, y_center=0, zoom_level=1.0)>"
      ]
     },
     "execution_count": 11,
     "metadata": {},
     "output_type": "execute_result"
    }
   ],
   "source": [
    "import numpy as np\n",
    "import matplotlib.pyplot as plt\n",
    "from ipywidgets import interact, FloatSlider\n",
    "\n",
    "# Define the dimensions of the image\n",
    "width, height = 800, 800\n",
    "max_iter = 100  # Maximum number of iterations\n",
    "\n",
    "def compute_julia(c_real, c_imag, xmin, xmax, ymin, ymax, width=800, height=800, max_iter=100):\n",
    "    \"\"\"Compute the Julia set for a given constant and range.\"\"\"\n",
    "    x_vals = np.linspace(xmin, xmax, width)\n",
    "    y_vals = np.linspace(ymin, ymax, height)\n",
    "    X, Y = np.meshgrid(x_vals, y_vals)\n",
    "    C = c_real + 1j * c_imag\n",
    "\n",
    "    julia = np.zeros_like(X, dtype=int)\n",
    "    Z = X + 1j * Y\n",
    "    \n",
    "    for i in range(max_iter):\n",
    "        Z = Z**2 + C\n",
    "        mask = np.abs(Z) <= 2\n",
    "        julia += mask\n",
    "        \n",
    "    return julia\n",
    "\n",
    "# Define the interactive plot function\n",
    "def interactive_plot(x_center=-0.5, y_center=0, zoom_level=1.0):\n",
    "    \"\"\"Interactive plot for Julia set.\"\"\"\n",
    "    span = 3.0 / zoom_level\n",
    "    xmin, xmax = x_center - span, x_center + span\n",
    "    ymin, ymax = y_center - span, y_center + span\n",
    "\n",
    "    julia = compute_julia(-0.7,0.27, xmin, xmax, ymin, ymax)  # Constant c = 0\n",
    "    # You can set the constant c to any specific value you want, e.g., compute_julia(c_real, c_imag, xmin, xmax, ymin, ymax)\n",
    "\n",
    "    fig, ax = plt.subplots(figsize=(8,8))\n",
    "    img = ax.imshow(np.log(julia + 1), cmap=\"inferno\", extent=(xmin, xmax, ymin, ymax))\n",
    "    plt.colorbar(img, ax=ax, label=\"Log Iterations\")\n",
    "    \n",
    "    def on_scroll(event):\n",
    "        \"\"\"Zoom in or out of the plot.\"\"\"\n",
    "        nonlocal zoom_level, x_center, y_center\n",
    "        zoom_scale = 1.5\n",
    "        if event.button == \"up\":\n",
    "            zoom_level /= zoom_scale\n",
    "        elif event.button == \"down\":\n",
    "            zoom_level *= zoom_scale\n",
    "        interactive_plot(x_center, y_center, zoom_level)\n",
    "        \n",
    "    def on_click(event):\n",
    "        \"\"\"Center the plot on the clicked position.\"\"\"\n",
    "        nonlocal x_center, y_center\n",
    "        x_center, y_center = event.xdata, event.ydata\n",
    "        interactive_plot(x_center, y_center, zoom_level)\n",
    "    \n",
    "    fig.canvas.mpl_connect('scroll_event', on_scroll)\n",
    "    fig.canvas.mpl_connect('button_press_event', on_click)\n",
    "    plt.show()\n",
    "\n",
    "# Create interactive sliders\n",
    "interact(interactive_plot,\n",
    "         x_center=FloatSlider(min=-2, max=2, step=0.01, value=0, description=\"X Center\"),\n",
    "         y_center=FloatSlider(min=-2, max=2, step=0.01, value=0, description=\"Y Center\"),\n",
    "         zoom_level=FloatSlider(min=1, max=100, step=0.5, value=2, description=\"Zoom Level\"))"
   ]
  },
  {
   "cell_type": "code",
   "execution_count": null,
   "id": "a9bd0fa9",
   "metadata": {},
   "outputs": [],
   "source": []
  }
 ],
 "metadata": {
  "kernelspec": {
   "display_name": "Python 3 (ipykernel)",
   "language": "python",
   "name": "python3"
  },
  "language_info": {
   "codemirror_mode": {
    "name": "ipython",
    "version": 3
   },
   "file_extension": ".py",
   "mimetype": "text/x-python",
   "name": "python",
   "nbconvert_exporter": "python",
   "pygments_lexer": "ipython3",
   "version": "3.9.13"
  }
 },
 "nbformat": 4,
 "nbformat_minor": 5
}
